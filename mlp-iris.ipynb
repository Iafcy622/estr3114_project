{
 "cells": [
  {
   "cell_type": "code",
   "execution_count": 532,
   "metadata": {},
   "outputs": [],
   "source": [
    "import torch\n",
    "import torch.nn as nn\n",
    "import torch.nn.functional as F"
   ]
  },
  {
   "cell_type": "code",
   "execution_count": 533,
   "metadata": {},
   "outputs": [
    {
     "name": "stdout",
     "output_type": "stream",
     "text": [
      "Device:  cuda\n"
     ]
    },
    {
     "data": {
      "text/plain": [
       "<torch._C.Generator at 0x7fa708017930>"
      ]
     },
     "execution_count": 533,
     "metadata": {},
     "output_type": "execute_result"
    }
   ],
   "source": [
    "device = 'cuda' if torch.cuda.is_available() else 'cpu'\n",
    "print(\"Device: \", device)\n",
    "\n",
    "random_seed = 1447\n",
    "torch.manual_seed(random_seed)"
   ]
  },
  {
   "cell_type": "code",
   "execution_count": null,
   "metadata": {},
   "outputs": [],
   "source": [
    "class Net(nn.Module):\n",
    "    def __init__(self):\n",
    "        super(Net, self).__init__()\n",
    "        self.fc1 = nn.Linear(4, 64)\n",
    "        self.fc2 = nn.Linear(64, 32)\n",
    "        self.fc3 = nn.Linear(32, 3)\n",
    "\n",
    "    def forward(self, x):\n",
    "        x = F.relu(self.fc1(x))\n",
    "        x = F.relu(self.fc2(x))\n",
    "        x = self.fc3(x)\n",
    "\n",
    "        return x"
   ]
  },
  {
   "cell_type": "code",
   "execution_count": 535,
   "metadata": {},
   "outputs": [],
   "source": [
    "model = Net().to(device)\n",
    "epochs = 50\n",
    "lr = 0.005\n",
    "criterion = nn.CrossEntropyLoss()\n",
    "\n",
    "# optimizer = torch.optim.SGD(model.parameters(), lr=lr)\n",
    "# optimizer = torch.optim.Adam(model.parameters(),lr=lr)\n",
    "optimizer = torch.optim.Adafactor(model.parameters(), lr=lr)\n",
    "# optimizer = torch.optim.AdamW(model.parameters(), lr=lr)\n",
    "# optimizer = torch.optim.RAdam(model.parameters(), lr=lr)\n",
    "# optimizer = torch.optim.NAdam(model.parameters(), lr=lr)"
   ]
  },
  {
   "cell_type": "code",
   "execution_count": 536,
   "metadata": {},
   "outputs": [],
   "source": [
    "from sklearn import datasets\n",
    "from sklearn.preprocessing import StandardScaler\n",
    "from sklearn.model_selection import train_test_split\n",
    "\n",
    "X, y = datasets.load_iris(return_X_y=True)\n",
    "\n",
    "scaler = StandardScaler()\n",
    "\n",
    "X_train, X_test, y_train, y_test = train_test_split(X, y, test_size=0.30, random_state=42)\n",
    "\n",
    "X_train = scaler.fit_transform(X_train)\n",
    "X_test = scaler.transform(X_test)\n",
    "\n",
    "X_train = torch.FloatTensor(X_train).to(device)\n",
    "X_test = torch.FloatTensor(X_test).to(device)\n",
    "y_train = torch.LongTensor(y_train).to(device)\n",
    "y_test = torch.LongTensor(y_test).to(device)"
   ]
  },
  {
   "cell_type": "code",
   "execution_count": 537,
   "metadata": {},
   "outputs": [],
   "source": [
    "def predict():\n",
    "    model.eval()\n",
    "\n",
    "    with torch.no_grad():\n",
    "        output = model(X_test)\n",
    "        accuracy = (torch.argmax(output, dim=1) == y_test).type(torch.FloatTensor).mean()\n",
    "        \n",
    "        return accuracy.item()"
   ]
  },
  {
   "cell_type": "code",
   "execution_count": 538,
   "metadata": {},
   "outputs": [],
   "source": [
    "def train():\n",
    "    train_losses = []\n",
    "    test_accuracy_list = []\n",
    "\n",
    "    for epoch in range(epochs):\n",
    "        # Train\n",
    "        model.train()\n",
    "\n",
    "        optimizer.zero_grad()\n",
    "        \n",
    "        outputs = model(X_train)\n",
    "\n",
    "        loss_train = criterion(outputs, y_train)\n",
    "        train_losses.append(loss_train.item())\n",
    "\n",
    "        loss_train.backward()\n",
    "        optimizer.step()\n",
    "\n",
    "        # Test\n",
    "        test_accuracy = predict()\n",
    "        test_accuracy_list.append(test_accuracy)\n",
    "\n",
    "        print(f\"Epoch [{epoch}/{epochs}]: Train loss: {loss_train}, Test loss: {test_accuracy}\")\n",
    "\n",
    "    return (train_losses, test_accuracy_list)"
   ]
  },
  {
   "cell_type": "code",
   "execution_count": null,
   "metadata": {},
   "outputs": [
    {
     "name": "stdout",
     "output_type": "stream",
     "text": [
      "Epoch [0/50]: Train loss: 1.922278881072998, Test loss: 0.17777778208255768\n",
      "Epoch [1/50]: Train loss: 1.76176118850708, Test loss: 0.2222222238779068\n",
      "Epoch [2/50]: Train loss: 1.6074204444885254, Test loss: 0.2666666805744171\n",
      "Epoch [3/50]: Train loss: 1.4629465341567993, Test loss: 0.31111112236976624\n",
      "Epoch [4/50]: Train loss: 1.3318005800247192, Test loss: 0.4000000059604645\n",
      "Epoch [5/50]: Train loss: 1.211161494255066, Test loss: 0.46666666865348816\n",
      "Epoch [6/50]: Train loss: 1.0997512340545654, Test loss: 0.5111111402511597\n",
      "Epoch [7/50]: Train loss: 1.0014642477035522, Test loss: 0.5333333611488342\n",
      "Epoch [8/50]: Train loss: 0.9150058031082153, Test loss: 0.6222222447395325\n",
      "Epoch [9/50]: Train loss: 0.8395261764526367, Test loss: 0.7111111283302307\n",
      "Epoch [10/50]: Train loss: 0.7732834815979004, Test loss: 0.7555555701255798\n",
      "Epoch [11/50]: Train loss: 0.7144293189048767, Test loss: 0.800000011920929\n",
      "Epoch [12/50]: Train loss: 0.6625379323959351, Test loss: 0.7777777910232544\n",
      "Epoch [13/50]: Train loss: 0.6178339123725891, Test loss: 0.7777777910232544\n",
      "Epoch [14/50]: Train loss: 0.5794651508331299, Test loss: 0.7777777910232544\n",
      "Epoch [15/50]: Train loss: 0.5464439988136292, Test loss: 0.8222222328186035\n",
      "Epoch [16/50]: Train loss: 0.5179247260093689, Test loss: 0.8666666746139526\n",
      "Epoch [17/50]: Train loss: 0.4932444989681244, Test loss: 0.8666666746139526\n",
      "Epoch [18/50]: Train loss: 0.47203347086906433, Test loss: 0.8666666746139526\n",
      "Epoch [19/50]: Train loss: 0.45371103286743164, Test loss: 0.8666666746139526\n",
      "Epoch [20/50]: Train loss: 0.43762892484664917, Test loss: 0.8666666746139526\n",
      "Epoch [21/50]: Train loss: 0.42342156171798706, Test loss: 0.8666666746139526\n",
      "Epoch [22/50]: Train loss: 0.4107414484024048, Test loss: 0.8666666746139526\n",
      "Epoch [23/50]: Train loss: 0.39921170473098755, Test loss: 0.8666666746139526\n",
      "Epoch [24/50]: Train loss: 0.38887375593185425, Test loss: 0.8666666746139526\n",
      "Epoch [25/50]: Train loss: 0.3795686364173889, Test loss: 0.8666666746139526\n",
      "Epoch [26/50]: Train loss: 0.37089091539382935, Test loss: 0.8666666746139526\n",
      "Epoch [27/50]: Train loss: 0.362771213054657, Test loss: 0.8666666746139526\n",
      "Epoch [28/50]: Train loss: 0.355264812707901, Test loss: 0.8666666746139526\n",
      "Epoch [29/50]: Train loss: 0.34824734926223755, Test loss: 0.8666666746139526\n",
      "Epoch [30/50]: Train loss: 0.3417517840862274, Test loss: 0.8666666746139526\n",
      "Epoch [31/50]: Train loss: 0.33551257848739624, Test loss: 0.8666666746139526\n",
      "Epoch [32/50]: Train loss: 0.3295930027961731, Test loss: 0.8666666746139526\n",
      "Epoch [33/50]: Train loss: 0.32396233081817627, Test loss: 0.8666666746139526\n",
      "Epoch [34/50]: Train loss: 0.3184508681297302, Test loss: 0.8666666746139526\n",
      "Epoch [35/50]: Train loss: 0.3130509853363037, Test loss: 0.8666666746139526\n",
      "Epoch [36/50]: Train loss: 0.3078213632106781, Test loss: 0.8666666746139526\n",
      "Epoch [37/50]: Train loss: 0.30287599563598633, Test loss: 0.8666666746139526\n",
      "Epoch [38/50]: Train loss: 0.298088937997818, Test loss: 0.8666666746139526\n",
      "Epoch [39/50]: Train loss: 0.29347509145736694, Test loss: 0.8666666746139526\n",
      "Epoch [40/50]: Train loss: 0.2890458405017853, Test loss: 0.8666666746139526\n",
      "Epoch [41/50]: Train loss: 0.2845446765422821, Test loss: 0.8666666746139526\n",
      "Epoch [42/50]: Train loss: 0.2801583409309387, Test loss: 0.8666666746139526\n",
      "Epoch [43/50]: Train loss: 0.2758713960647583, Test loss: 0.8666666746139526\n",
      "Epoch [44/50]: Train loss: 0.2715776562690735, Test loss: 0.8666666746139526\n",
      "Epoch [45/50]: Train loss: 0.2673991918563843, Test loss: 0.8666666746139526\n",
      "Epoch [46/50]: Train loss: 0.26335829496383667, Test loss: 0.8888888955116272\n",
      "Epoch [47/50]: Train loss: 0.259280800819397, Test loss: 0.8888888955116272\n",
      "Epoch [48/50]: Train loss: 0.2552991509437561, Test loss: 0.8888888955116272\n",
      "Epoch [49/50]: Train loss: 0.2513311505317688, Test loss: 0.8888888955116272\n"
     ]
    }
   ],
   "source": [
    "import json\n",
    "\n",
    "train_losses, test_accuracy = train()\n",
    "accuracy = predict()"
   ]
  },
  {
   "cell_type": "code",
   "execution_count": null,
   "metadata": {},
   "outputs": [
    {
     "data": {
      "image/png": "[encoded data removed]",
      "text/plain": [
       "<Figure size 1000x480 with 1 Axes>"
      ]
     },
     "metadata": {},
     "output_type": "display_data"
    }
   ],
   "source": [
    "import matplotlib.pyplot as plt\n",
    "\n",
    "def plot_train_losses(train_losses, path=None):\n",
    "    plt.figure().set_figwidth(10)\n",
    "    plt.plot(train_losses, '-b')\n",
    "    plt.xlabel('epoch')\n",
    "    plt.ylabel('loss')\n",
    "    plt.title('Training Loss')\n",
    "    plt.show()\n",
    "\n",
    "    if type(path) == str:\n",
    "        plt.savefig(path)\n",
    "\n",
    "plot_train_losses(train_losses)"
   ]
  }
 ],
 "metadata": {
  "kernelspec": {
   "display_name": "venv",
   "language": "python",
   "name": "python3"
  },
  "language_info": {
   "codemirror_mode": {
    "name": "ipython",
    "version": 3
   },
   "file_extension": ".py",
   "mimetype": "text/x-python",
   "name": "python",
   "nbconvert_exporter": "python",
   "pygments_lexer": "ipython3",
   "version": "3.10.12"
  }
 },
 "nbformat": 4,
 "nbformat_minor": 2
}
